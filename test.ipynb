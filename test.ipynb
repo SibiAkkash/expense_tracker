{
 "cells": [
  {
   "cell_type": "code",
   "execution_count": 11,
   "metadata": {},
   "outputs": [],
   "source": [
    "import pandas as pd\n",
    "# python -m pip install xlrd"
   ]
  },
  {
   "cell_type": "code",
   "execution_count": 146,
   "metadata": {},
   "outputs": [
    {
     "name": "stdout",
     "output_type": "stream",
     "text": [
      "['Date', 'Narration', 'Chq./Ref.No.', 'Value Dt', 'Withdrawal Amt.', 'Deposit Amt.', 'Closing Balance'] 23 110\n"
     ]
    }
   ],
   "source": [
    "import xlrd\n",
    "\n",
    "book = xlrd.open_workbook(\"./expenses/jun_2023.xls\")\n",
    "sheet = book.sheet_by_index(0)\n",
    "\n",
    "transaction_entries_start_idx: int = -1\n",
    "transaction_entries_end_idx: int = -1\n",
    "label_row_idx: int = -1\n",
    "\n",
    "inside_transaction_section: bool = False\n",
    "\n",
    "for idx, row in enumerate(sheet.get_rows()):\n",
    "    # row is a list with xlrd.sheet.Cell objects\n",
    "    first_cell: xlrd.sheet.Cell = row[0]\n",
    "    \n",
    "    # ignore lines that dont start with asterisk, \n",
    "    # asterisk lines are markers for the transaction rows starting and ending\n",
    "    if not first_cell.value.startswith('*'):\n",
    "        continue\n",
    "       \n",
    "    # check if this is start of list of transactions\n",
    "    row_values          = sheet.row_values(idx)\n",
    "    filtered_row_values = list(filter(lambda cell: cell != '', row_values))\n",
    "\n",
    "    # start and end of the transaction list has *** in each cell\n",
    "    # after filtering out empty cells, if the length of the list is same as original, \n",
    "    # it means all cells have text (and these will be asterisks according to the format)\n",
    "    # store these row numbers\n",
    "    if len(row_values) == len(filtered_row_values):\n",
    "        if transaction_entries_start_idx == - 1:\n",
    "            transaction_entries_start_idx = idx + 1\n",
    "            label_row_idx = idx - 1\n",
    "            \n",
    "        else:\n",
    "            # there's a blank line before the asterisk line\n",
    "            transaction_entries_end_idx = idx - 2\n",
    "            break\n",
    "\n",
    "    \n",
    "labels = sheet.row_values(label_row_idx)\n",
    "\n",
    "print(labels, transaction_entries_start_idx + 1, transaction_entries_end_idx + 1)"
   ]
  },
  {
   "cell_type": "code",
   "execution_count": 171,
   "metadata": {},
   "outputs": [
    {
     "name": "stdout",
     "output_type": "stream",
     "text": [
      "['26/05/23', 'NEFT CR-HSBC0400002-SHELL INDIA MARKETS PRIVATE LIMITED-SIBI AKKASH SUNDAR-HSBCN23146678253', 'HSBCN23146678253', '26/05/23', '', 93625.63, 96217.59]\n",
      "Transaction(date=datetime.datetime(2023, 5, 26, 0, 0), narration='NEFT CR-HSBC0400002-SHELL INDIA MARKETS PRIVATE LIMITED-SIBI AKKASH SUNDAR-HSBCN23146678253', reference_id='HSBCN23146678253', value_date=datetime.datetime(2023, 5, 26, 0, 0), withdraw_amount=0.0, deposit_amount=93625.63, closing_balance=96217.59)\n"
     ]
    }
   ],
   "source": [
    "from dataclasses import dataclass\n",
    "import datetime\n",
    "\n",
    "@dataclass\n",
    "class Transaction:\n",
    "    date: datetime.date\n",
    "    narration: str\n",
    "    reference_id: str\n",
    "    value_date: datetime.date\n",
    "    withdraw_amount: float\n",
    "    deposit_amount: float\n",
    "    closing_balance: float    \n",
    "    \n",
    "date_format = \"%d/%m/%y\"    \n",
    "\n",
    "for idx, row in enumerate(sheet.get_rows()):\n",
    "    if transaction_entries_start_idx <= idx <= transaction_entries_end_idx:\n",
    "        values = sheet.row_values(idx)\n",
    "        print(values)\n",
    "        values[0] = datetime.datetime.strptime(row[0].value, date_format)\n",
    "        values[3] = datetime.datetime.strptime(row[3].value, date_format)\n",
    "        if row[4].value == '': values[4] = 0.0\n",
    "        if row[5].value == '': values[5] = 0.0\n",
    "        \n",
    "        transaction = Transaction(*values)\n",
    "        print(transaction)\n",
    "        break\n",
    "        "
   ]
  }
 ],
 "metadata": {
  "kernelspec": {
   "display_name": "Python 3.8.10 ('env': venv)",
   "language": "python",
   "name": "python3"
  },
  "language_info": {
   "codemirror_mode": {
    "name": "ipython",
    "version": 3
   },
   "file_extension": ".py",
   "mimetype": "text/x-python",
   "name": "python",
   "nbconvert_exporter": "python",
   "pygments_lexer": "ipython3",
   "version": "3.8.10"
  },
  "orig_nbformat": 4,
  "vscode": {
   "interpreter": {
    "hash": "630df1504c4bc7f692ef271ab9f6a8179a1d552fd39ab378e82f1aa0429e50ea"
   }
  }
 },
 "nbformat": 4,
 "nbformat_minor": 2
}
